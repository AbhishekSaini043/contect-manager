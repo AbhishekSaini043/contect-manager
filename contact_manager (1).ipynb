{
 "cells": [
  {
   "cell_type": "code",
   "execution_count": 1,
   "id": "f667be68-6608-4456-af9e-e9ce6be99a4f",
   "metadata": {},
   "outputs": [
    {
     "name": "stdout",
     "output_type": "stream",
     "text": [
      "\n",
      "--- Contact Book Menu ---\n",
      "1. Add Contact\n",
      "2. View Contacts\n",
      "3. Search Contact\n",
      "4. Delete Contact\n",
      "5. Exit\n"
     ]
    },
    {
     "name": "stdin",
     "output_type": "stream",
     "text": [
      "Choose an option (1-5):  2\n"
     ]
    },
    {
     "name": "stdout",
     "output_type": "stream",
     "text": [
      "No contacts found.\n",
      "\n",
      "--- Contact Book Menu ---\n",
      "1. Add Contact\n",
      "2. View Contacts\n",
      "3. Search Contact\n",
      "4. Delete Contact\n",
      "5. Exit\n"
     ]
    },
    {
     "name": "stdin",
     "output_type": "stream",
     "text": [
      "Choose an option (1-5):  5\n"
     ]
    },
    {
     "name": "stdout",
     "output_type": "stream",
     "text": [
      "Exiting Contact Book. Goodbye!\n"
     ]
    }
   ],
   "source": [
    "import os\n",
    "\n",
    "# Ensure 'User Info' folder exists\n",
    "if not os.path.exists(\"User Info\"):\n",
    "    os.makedirs(\"User Info\")\n",
    "\n",
    "# Path for the main contact storage file\n",
    "file_path = os.path.join(\"User Info\", \"contacts.txt\")\n",
    "\n",
    "# Load contacts from the file at the start of the program\n",
    "def load_contacts():\n",
    "    contacts = {}\n",
    "    if os.path.exists(file_path):\n",
    "        with open(file_path, \"r\") as file:\n",
    "            for line in file:\n",
    "                if line.strip():\n",
    "                    name, phone, age = line.strip().split(',')\n",
    "                    contacts[name] = {'phone': phone, 'age': age}\n",
    "    return contacts\n",
    "\n",
    "# Save all contacts to the file\n",
    "def save_contacts(contacts):\n",
    "    with open(file_path, \"w\") as file:\n",
    "        for name, info in contacts.items():\n",
    "            file.write(f\"{name},{info['phone']},{info['age']}\\n\")\n",
    "\n",
    "# Add a new contact and save it to the file\n",
    "def add_contact(contacts):\n",
    "    name = input(\"Enter contact name: \")\n",
    "    phone = input(\"Enter phone number: \")\n",
    "    age = input(\"Enter age: \")\n",
    "    contacts[name] = {'phone': phone, 'age': age}\n",
    "    save_contacts(contacts)\n",
    "    print(f\"Contact {name} saved successfully.\")\n",
    "\n",
    "# View all contacts\n",
    "def view_contacts(contacts):\n",
    "    if contacts:\n",
    "        print(\"\\nAll Contacts:\")\n",
    "        for name, info in contacts.items():\n",
    "            print(f\"{name}: Phone = {info['phone']}, Age = {info['age']}\")\n",
    "    else:\n",
    "        print(\"No contacts found.\")\n",
    "\n",
    "# Search for a contact\n",
    "def search_contact(contacts):\n",
    "    name = input(\"Enter name to search: \")\n",
    "    if name in contacts:\n",
    "        info = contacts[name]\n",
    "        print(f\"{name}'s Phone: {info['phone']}, Age: {info['age']}\")\n",
    "    else:\n",
    "        print(f\"No contact found for {name}.\")\n",
    "\n",
    "# Delete a contact\n",
    "def delete_contact(contacts):\n",
    "    name = input(\"Enter name to delete: \")\n",
    "    if name in contacts:\n",
    "        del contacts[name]\n",
    "        save_contacts(contacts)\n",
    "        print(f\"Contact {name} deleted.\")\n",
    "    else:\n",
    "        print(f\"No contact found for {name}.\")\n",
    "\n",
    "# Main menu\n",
    "def menu():\n",
    "    contacts = load_contacts()\n",
    "    while True:\n",
    "        print(\"\\n--- Contact Book Menu ---\")\n",
    "        print(\"1. Add Contact\")\n",
    "        print(\"2. View Contacts\")\n",
    "        print(\"3. Search Contact\")\n",
    "        print(\"4. Delete Contact\")\n",
    "        print(\"5. Exit\")\n",
    "\n",
    "        choice = input(\"Choose an option (1-5): \")\n",
    "\n",
    "        if choice == '1':\n",
    "            add_contact(contacts)\n",
    "        elif choice == '2':\n",
    "            view_contacts(contacts)\n",
    "        elif choice == '3':\n",
    "            search_contact(contacts)\n",
    "        elif choice == '4':\n",
    "            delete_contact(contacts)\n",
    "        elif choice == '5':\n",
    "            save_contacts(contacts)\n",
    "            print(\"Exiting Contact Book. Goodbye!\")\n",
    "            break\n",
    "        else:\n",
    "            print(\"Invalid choice. Please try again.\")\n",
    "\n",
    "# Run the contact book program\n",
    "menu()\n"
   ]
  }
 ],
 "metadata": {
  "kernelspec": {
   "display_name": "Python 3 (ipykernel)",
   "language": "python",
   "name": "python3"
  },
  "language_info": {
   "codemirror_mode": {
    "name": "ipython",
    "version": 3
   },
   "file_extension": ".py",
   "mimetype": "text/x-python",
   "name": "python",
   "nbconvert_exporter": "python",
   "pygments_lexer": "ipython3",
   "version": "3.12.4"
  }
 },
 "nbformat": 4,
 "nbformat_minor": 5
}
